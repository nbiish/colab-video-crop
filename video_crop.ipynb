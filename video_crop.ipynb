{
  "nbformat": 4,
  "nbformat_minor": 0,
  "metadata": {
    "colab": {
      "provenance": [],
      "authorship_tag": "ABX9TyOp8A8TsOUpFDdmeAOGkHb9",
      "include_colab_link": true
    },
    "kernelspec": {
      "name": "python3",
      "display_name": "Python 3"
    },
    "language_info": {
      "name": "python"
    }
  },
  "cells": [
    {
      "cell_type": "markdown",
      "metadata": {
        "id": "view-in-github",
        "colab_type": "text"
      },
      "source": [
        "<a href=\"https://colab.research.google.com/github/nbiish/colab-video-crop/blob/main/video_crop.ipynb\" target=\"_parent\"><img src=\"https://colab.research.google.com/assets/colab-badge.svg\" alt=\"Open In Colab\"/></a>"
      ]
    },
    {
      "cell_type": "markdown",
      "source": [
        "## get imports and start colab"
      ],
      "metadata": {
        "id": "Hly_wLrI_AvT"
      }
    },
    {
      "cell_type": "code",
      "source": [
        "import cv2\n",
        "import os\n",
        "import numpy as np"
      ],
      "metadata": {
        "id": "ydLklHhi-_UN"
      },
      "execution_count": null,
      "outputs": []
    },
    {
      "cell_type": "markdown",
      "source": [
        "## Crop Videos"
      ],
      "metadata": {
        "id": "GHzV5LzT7whr"
      }
    },
    {
      "cell_type": "code",
      "execution_count": null,
      "metadata": {
        "id": "ErCm5B9-ook4"
      },
      "outputs": [],
      "source": [
        "def crop_video(video_path, output_path):\n",
        "    # Load the video\n",
        "    video = cv2.VideoCapture(video_path)\n",
        "\n",
        "    # Get the video's width and height\n",
        "    width = int(video.get(cv2.CAP_PROP_FRAME_WIDTH))\n",
        "    height = int(video.get(cv2.CAP_PROP_FRAME_HEIGHT))\n",
        "\n",
        "    # Calculate the number of pixels to crop from the top\n",
        "    crop_pixels = int(height * 0.10)\n",
        "\n",
        "    # Define the codec and create a VideoWriter object\n",
        "    fourcc = cv2.VideoWriter_fourcc(*'mp4v')\n",
        "    out = cv2.VideoWriter(output_path, fourcc, video.get(cv2.CAP_PROP_FPS), (width, height - crop_pixels))\n",
        "\n",
        "    while(video.isOpened()):\n",
        "        ret, frame = video.read()\n",
        "        if ret:\n",
        "            # Crop the frame\n",
        "            cropped_frame = frame[crop_pixels:, :]\n",
        "            # Write the cropped frame to file\n",
        "            out.write(cropped_frame)\n",
        "        else:\n",
        "            break\n",
        "\n",
        "    # Release everything when done\n",
        "    video.release()\n",
        "    out.release()\n",
        "\n",
        "# Get all .mp4 files in the current directory\n",
        "videos = [f for f in os.listdir('.') if f.endswith('.mp4')]\n",
        "\n",
        "# Crop all videos\n",
        "for video in videos:\n",
        "    crop_video(video, 'cropped_' + video)"
      ]
    },
    {
      "cell_type": "markdown",
      "source": [
        "## Stores in folder to zip"
      ],
      "metadata": {
        "id": "1pU9oX-9728V"
      }
    },
    {
      "cell_type": "code",
      "source": [
        "import os\n",
        "import shutil\n",
        "\n",
        "source_dir = '/content/'\n",
        "dest_dir = '/content/cropped_files/'\n",
        "\n",
        "# Create the destination directory if it doesn't exist\n",
        "os.makedirs(dest_dir, exist_ok=True)\n",
        "\n",
        "for filename in os.listdir(source_dir):\n",
        "    if filename.startswith('cropped'):\n",
        "        full_file_path = os.path.join(source_dir, filename)\n",
        "        # Check if it's a file, not a directory\n",
        "        if os.path.isfile(full_file_path):\n",
        "            # Remove the 'cropped_' part from the filename\n",
        "            new_filename = filename.replace('cropped_', '')\n",
        "            # Move the file to the destination directory with the new filename\n",
        "            shutil.move(full_file_path, os.path.join(dest_dir, new_filename))\n"
      ],
      "metadata": {
        "id": "eB3e-1wdsaN1"
      },
      "execution_count": null,
      "outputs": []
    },
    {
      "cell_type": "markdown",
      "source": [
        "## download zip"
      ],
      "metadata": {
        "id": "z2su6UOd79Bh"
      }
    },
    {
      "cell_type": "code",
      "source": [
        "!zip -r /content/cropped_files.zip /content/cropped_files/\n",
        "from google.colab import files\n",
        "files.download('/content/cropped_files.zip')\n"
      ],
      "metadata": {
        "id": "p4tPfGoVscx4"
      },
      "execution_count": null,
      "outputs": []
    },
    {
      "cell_type": "markdown",
      "source": [
        "## remove folder to do more"
      ],
      "metadata": {
        "id": "Zz1KXVKt-xYf"
      }
    },
    {
      "cell_type": "code",
      "source": [
        "%touch placeholder.txt && rm -r cropped_files sample_data"
      ],
      "metadata": {
        "id": "INrgxLm2-slb"
      },
      "execution_count": null,
      "outputs": []
    },
    {
      "cell_type": "markdown",
      "source": [
        "## remove the files"
      ],
      "metadata": {
        "id": "R-EbHgfnFJG9"
      }
    },
    {
      "cell_type": "code",
      "source": [
        "%rm *"
      ],
      "metadata": {
        "id": "RKI35fS4F0D4"
      },
      "execution_count": null,
      "outputs": []
    }
  ]
}